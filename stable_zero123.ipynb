{
  "cells": [
    {
      "cell_type": "markdown",
      "metadata": {
        "id": "view-in-github",
        "colab_type": "text"
      },
      "source": [
        "<a href=\"https://colab.research.google.com/github/eldahl/stable-zero123-files/blob/master/stable_zero123.ipynb\" target=\"_parent\"><img src=\"https://colab.research.google.com/assets/colab-badge.svg\" alt=\"Open In Colab\"/></a>"
      ]
    },
    {
      "cell_type": "code",
      "execution_count": null,
      "metadata": {
        "id": "YadOCCCyXT0y"
      },
      "outputs": [],
      "source": [
        "!nvidia-smi"
      ]
    },
    {
      "cell_type": "markdown",
      "metadata": {
        "id": "S7vZFQkeq_Vk"
      },
      "source": [
        "# Clone threestudio repo"
      ]
    },
    {
      "cell_type": "code",
      "execution_count": null,
      "metadata": {
        "id": "ubuVj4z0MhHh"
      },
      "outputs": [],
      "source": [
        "!git clone https://github.com/threestudio-project/threestudio.git\n",
        "%cd threestudio"
      ]
    },
    {
      "cell_type": "markdown",
      "metadata": {
        "id": "aXqmxXX0Jb6m"
      },
      "source": [
        "# Install dependencies"
      ]
    },
    {
      "cell_type": "code",
      "execution_count": null,
      "metadata": {
        "id": "HKZQNbNmX20t"
      },
      "outputs": [],
      "source": [
        "!pip install ninja\n",
        "!pip install lightning==2.0.0 omegaconf==2.3.0 jaxtyping typeguard diffusers transformers accelerate opencv-python tensorboard matplotlib imageio imageio[ffmpeg] trimesh bitsandbytes sentencepiece safetensors huggingface_hub libigl xatlas networkx pysdf PyMCubes wandb torchmetrics controlnet_aux\n",
        "!pip install einops kornia taming-transformers-rom1504 git+https://github.com/openai/CLIP.git # zero123\n",
        "!pip install open3d plotly # mesh visualization"
      ]
    },
    {
      "cell_type": "markdown",
      "metadata": {
        "id": "b8U3rne0JTgs"
      },
      "source": [
        "# And build some dependencies manually. This may take a while."
      ]
    },
    {
      "cell_type": "code",
      "execution_count": null,
      "metadata": {
        "id": "BFHI67e0_65a"
      },
      "outputs": [],
      "source": [
        "!pip install git+https://github.com/ashawkey/envlight.git\n",
        "!pip install git+https://github.com/KAIR-BAIR/nerfacc.git@v0.5.2\n",
        "!pip install git+https://github.com/NVlabs/nvdiffrast.git\n",
        "!pip install git+https://github.com/NVlabs/tiny-cuda-nn/#subdirectory=bindings/torch"
      ]
    },
    {
      "cell_type": "markdown",
      "source": [
        "# Get sample images and stable-zero123 model"
      ],
      "metadata": {
        "id": "pJ44rMpv9Ahq"
      }
    },
    {
      "cell_type": "code",
      "source": [
        "%cd /content/threestudio/load/images\n",
        "!wget https://example.com/example128_rgba.png\n",
        "%cd /content/threestudio/load/zero123/\n",
        "!wget https://huggingface.co/stabilityai/stable-zero123/resolve/main/stable_zero123.ckpt\n",
        "%cd /content/threestudio"
      ],
      "metadata": {
        "id": "YXhO9rNb84Nq"
      },
      "execution_count": null,
      "outputs": []
    },
    {
      "cell_type": "markdown",
      "source": [
        "# Download custom config for stable-zero123"
      ],
      "metadata": {
        "id": "GjOwXI8t9eHt"
      }
    },
    {
      "cell_type": "code",
      "source": [
        "%cd /content/threestudio/configs/\n",
        "!wget https://example.com/run.yaml\n",
        "%cd /content/threestudio"
      ],
      "metadata": {
        "id": "6PABqdyzruRD"
      },
      "execution_count": null,
      "outputs": []
    },
    {
      "cell_type": "markdown",
      "source": [
        "# Run training on the sample image"
      ],
      "metadata": {
        "id": "199eXnET-L5W"
      }
    },
    {
      "cell_type": "code",
      "source": [
        "imgpath = \"./load/images/example128_rgba.png\""
      ],
      "metadata": {
        "id": "f97Z_40W8PfH"
      },
      "execution_count": null,
      "outputs": []
    },
    {
      "cell_type": "code",
      "execution_count": null,
      "metadata": {
        "id": "T4eeJFCZAZUV"
      },
      "outputs": [],
      "source": [
        "!python launch.py --config configs/run.yaml --train --gpu 0 data.image_path=\"$imgpath\""
      ]
    },
    {
      "cell_type": "markdown",
      "source": [
        "- Note the outputs directory from training, contains files needed for mesh export\n",
        "- Alternatively run ls command on outputs directory as below"
      ],
      "metadata": {
        "id": "iXwIua8a-Xh0"
      }
    },
    {
      "cell_type": "code",
      "source": [
        "!ls -la 'outputs/zero123-sai/'"
      ],
      "metadata": {
        "id": "4ak80QeDHVg9"
      },
      "execution_count": null,
      "outputs": []
    },
    {
      "cell_type": "code",
      "source": [
        "# Insert training save output folder here\n",
        "save_dir = \"\\\"outputs/zero123-sai/\" + \"[Insert save directory here]\" + \"/\\\"\""
      ],
      "metadata": {
        "id": "VYDfYAhU_lOG"
      },
      "execution_count": null,
      "outputs": []
    },
    {
      "cell_type": "markdown",
      "source": [
        "# Mesh export"
      ],
      "metadata": {
        "id": "AUl5LNDw_EBD"
      }
    },
    {
      "cell_type": "code",
      "source": [
        "!python launch.py --config $save_dir/configs/parsed.yaml --export --gpu 0 data.image_path=\"$imgpath\" resume=$save_dir/ckpts/last.ckpt system.exporter.context_type=cuda system.exporter_type=mesh-exporter system.exporter.fmt=obj"
      ],
      "metadata": {
        "id": "0Nb1w83JIMY2"
      },
      "execution_count": null,
      "outputs": []
    }
  ],
  "metadata": {
    "accelerator": "GPU",
    "colab": {
      "provenance": [],
      "gpuType": "A100",
      "include_colab_link": true
    },
    "kernelspec": {
      "display_name": "Python 3",
      "name": "python3"
    },
    "language_info": {
      "name": "python"
    }
  },
  "nbformat": 4,
  "nbformat_minor": 0
}